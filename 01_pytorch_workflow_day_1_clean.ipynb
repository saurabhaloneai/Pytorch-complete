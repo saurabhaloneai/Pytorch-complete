{
  "nbformat": 4,
  "nbformat_minor": 0,
  "metadata": {
    "colab": {
      "provenance": [],
      "include_colab_link": true
    },
    "kernelspec": {
      "name": "python3",
      "display_name": "Python 3"
    },
    "language_info": {
      "name": "python"
    },
    "accelerator": "GPU"
  },
  "cells": [
    {
      "cell_type": "markdown",
      "metadata": {
        "id": "view-in-github",
        "colab_type": "text"
      },
      "source": [
        "<a href=\"https://colab.research.google.com/github/saurabhaloneai/Pytorch-complete/blob/main/01_pytorch_workflow_day_1_clean.ipynb\" target=\"_parent\"><img src=\"https://colab.research.google.com/assets/colab-badge.svg\" alt=\"Open In Colab\"/></a>"
      ]
    },
    {
      "cell_type": "markdown",
      "source": [
        "# Simple PyTorch Work - Flow ##"
      ],
      "metadata": {
        "id": "IvtIPj7LZ3QZ"
      }
    },
    {
      "cell_type": "code",
      "source": [],
      "metadata": {
        "id": "ng_SngNxZ2UN"
      },
      "execution_count": 87,
      "outputs": []
    },
    {
      "cell_type": "code",
      "source": [
        "# Import necessary libraries\n",
        "import torch\n",
        "from torch import nn\n",
        "import matplotlib.pyplot as plt\n",
        "import numpy as np\n",
        "\n",
        "torch.__version__\n"
      ],
      "metadata": {
        "id": "Glu2fM4dkNlx",
        "colab": {
          "base_uri": "https://localhost:8080/",
          "height": 35
        },
        "outputId": "0aab73dd-e4f6-4291-eacd-5416bc60322f"
      },
      "execution_count": 88,
      "outputs": [
        {
          "output_type": "execute_result",
          "data": {
            "text/plain": [
              "'2.1.0+cu118'"
            ],
            "application/vnd.google.colaboratory.intrinsic+json": {
              "type": "string"
            }
          },
          "metadata": {},
          "execution_count": 88
        }
      ]
    },
    {
      "cell_type": "markdown",
      "source": [
        "cuda cheack :\n",
        "\n",
        "1. torch.cuda.is_available()\n",
        "2. torch.version.cuda\n",
        "3. torch.cuda.current_device()\n",
        "4. cuda_id = torch.cuda.current_device()\n",
        "4. torch.cuda.get_device_name(cuda id)\n"
      ],
      "metadata": {
        "id": "Er4QKTej2XZa"
      }
    },
    {
      "cell_type": "code",
      "source": [],
      "metadata": {
        "id": "WPzROfbo2W31"
      },
      "execution_count": 88,
      "outputs": []
    },
    {
      "cell_type": "code",
      "source": [
        "# Setup device-agnostic code\n",
        "\n",
        "print(f\"Is CUDA supported by this system?{torch.cuda.is_available()}\")\n",
        "\n",
        "print(f\"CUDA version: {torch.version.cuda}\")\n",
        "\n",
        "# Storing ID of current CUDA device\n",
        "cuda_id = torch.cuda.current_device()\n",
        "print(f\"ID of current CUDA device: {torch.cuda.current_device()}\")\n",
        "\n",
        "print(f\"Name of current CUDA device: {torch.cuda.get_device_name(cuda_id)}\")"
      ],
      "metadata": {
        "id": "LqKhXY26m31s",
        "colab": {
          "base_uri": "https://localhost:8080/"
        },
        "outputId": "226fb608-09b7-474b-cd5a-3e67d473eb96"
      },
      "execution_count": 89,
      "outputs": [
        {
          "output_type": "stream",
          "name": "stdout",
          "text": [
            "Is CUDA supported by this system?True\n",
            "CUDA version: 11.8\n",
            "ID of current CUDA device: 0\n",
            "Name of current CUDA device: Tesla T4\n"
          ]
        }
      ]
    },
    {
      "cell_type": "markdown",
      "source": [
        "## 1. Create a straight line dataset using the linear regression formula (`weight * X + bias`).\n",
        "  * Set `weight=0.3` and `bias=0.9` there should be at least 100 datapoints total.\n",
        "  * Split the data into 80% training, 20% testing.\n",
        "  * Plot the training and testing data so it becomes visual.\n",
        "\n",
        "Your output of the below cell should look something like:\n",
        "```\n",
        "Number of X samples: 100\n",
        "Number of y samples: 100\n",
        "First 10 X & y samples:\n",
        "X: tensor([0.0000, 0.0100, 0.0200, 0.0300, 0.0400, 0.0500, 0.0600, 0.0700, 0.0800,\n",
        "        0.0900])\n",
        "y: tensor([0.9000, 0.9030, 0.9060, 0.9090, 0.9120, 0.9150, 0.9180, 0.9210, 0.9240,\n",
        "        0.9270])\n",
        "```\n",
        "\n",
        "Of course the numbers in `X` and `y` may be different but ideally they're created using the linear regression formula."
      ],
      "metadata": {
        "id": "g7HUhxCxjeBx"
      }
    },
    {
      "cell_type": "code",
      "source": [
        "# Create the data parameters\n",
        "\n",
        "weights = 0.5\n",
        "bias = 0.9\n",
        "start = 0\n",
        "step = 0.05\n",
        "end = 2\n",
        "X = torch.arange(start,end,step).unsqueeze(dim=1)\n",
        "\n",
        "\n",
        "# Make X and y using linear regression feature\n",
        "\n",
        "y  = weight * X + bias\n",
        "\n",
        "print(f\"Number of X samples: {len(X)}\")\n",
        "print(f\"Number of y samples: {len(y)}\")\n",
        "print(f\"First 10 X & y samples:\\nX: {X[:10]}\\ny: {y[:10]}\")"
      ],
      "metadata": {
        "id": "KbDG5MV7jhvE",
        "colab": {
          "base_uri": "https://localhost:8080/"
        },
        "outputId": "05c6d5cb-b13e-4e9d-9859-d90952d1ff27"
      },
      "execution_count": 90,
      "outputs": [
        {
          "output_type": "stream",
          "name": "stdout",
          "text": [
            "Number of X samples: 40\n",
            "Number of y samples: 40\n",
            "First 10 X & y samples:\n",
            "X: tensor([[0.0000],\n",
            "        [0.0500],\n",
            "        [0.1000],\n",
            "        [0.1500],\n",
            "        [0.2000],\n",
            "        [0.2500],\n",
            "        [0.3000],\n",
            "        [0.3500],\n",
            "        [0.4000],\n",
            "        [0.4500]])\n",
            "y: tensor([[0.9000],\n",
            "        [1.1500],\n",
            "        [1.4000],\n",
            "        [1.6500],\n",
            "        [1.9000],\n",
            "        [2.1500],\n",
            "        [2.4000],\n",
            "        [2.6500],\n",
            "        [2.9000],\n",
            "        [3.1500]])\n"
          ]
        }
      ]
    },
    {
      "cell_type": "code",
      "source": [
        "# Split the data into training and testing\n",
        "\n",
        "split = int(( 80 * 40 ) / 100)\n",
        "\n",
        "X_train , y_train = X[:split], y[:split]\n",
        "\n",
        "X_test , y_test = X[split:], y[split:]\n",
        "\n",
        "len(X_train), len(y_train), len(X_test), len(y_test)\n"
      ],
      "metadata": {
        "id": "GlwtT1djkmLw",
        "colab": {
          "base_uri": "https://localhost:8080/"
        },
        "outputId": "95f631ce-9922-47a6-df83-322116926746"
      },
      "execution_count": 91,
      "outputs": [
        {
          "output_type": "execute_result",
          "data": {
            "text/plain": [
              "(32, 32, 8, 8)"
            ]
          },
          "metadata": {},
          "execution_count": 91
        }
      ]
    },
    {
      "cell_type": "code",
      "source": [
        "# Plot the training and testing data\n",
        "\n",
        "def plot(train_data = X_train , train_label = y_train , test_data = X_test, test_label = y_test , predictions = None):\n",
        "\n",
        "  plt.figure(figsize=(7,5))\n",
        "\n",
        "  plt.scatter(train_data, train_label,s = 4, c='r',label =\"Training data \")\n",
        "  plt.scatter(test_data, test_label,s = 4, c='b',label = \"testing data\")\n",
        "\n",
        "  if predictions is not None:\n",
        "    plt.scatter(test_data , predictions, s = 4, c='g')\n",
        "\n",
        "\n",
        "\n",
        "plot()\n"
      ],
      "metadata": {
        "id": "29iQZFNhlYJ-",
        "colab": {
          "base_uri": "https://localhost:8080/",
          "height": 445
        },
        "outputId": "80791727-017e-44ea-9f9f-05fe39f3ec58"
      },
      "execution_count": 92,
      "outputs": [
        {
          "output_type": "display_data",
          "data": {
            "text/plain": [
              "<Figure size 700x500 with 1 Axes>"
            ],
            "image/png": "[encoded data removed]"
          },
          "metadata": {}
        }
      ]
    },
    {
      "cell_type": "markdown",
      "source": [
        "## 2. Build a PyTorch model by subclassing `nn.Module`.\n",
        "  * Inside should be a randomly initialized `nn.Parameter()` with `requires_grad=True`, one for `weights` and one for `bias`.\n",
        "  * Implement the `forward()` method to compute the linear regression function you used to create the dataset in 1.\n",
        "  * Once you've constructed the model, make an instance of it and check its `state_dict()`.\n",
        "  * **Note:** If you'd like to use `nn.Linear()` instead of `nn.Parameter()` you can."
      ],
      "metadata": {
        "id": "ImZoe3v8jif8"
      }
    },
    {
      "cell_type": "code",
      "source": [
        "# Create PyTorch linear regression model by subclassing nn.Module\n",
        "\n",
        "class LinearRegressionModel(nn.Module):\n",
        "\n",
        "  def __init__(self):\n",
        "\n",
        "    super().__init__()\n",
        "\n",
        "    self.weights = nn.Parameter(torch.rand(1,requires_grad = True , dtype=torch.float))\n",
        "\n",
        "    self.bias = nn.Parameter(torch.rand(1,requires_grad = True, dtype = torch.float))\n",
        "\n",
        "\n",
        "  def forward(self,x:torch.tensor) -> torch.Tensor:\n",
        "\n",
        "     return self.weights * x +  self.bias #you can use Cap X but small x is a good practice don't know who tell\n",
        "\n"
      ],
      "metadata": {
        "id": "qzd__Y5rjtB8"
      },
      "execution_count": 93,
      "outputs": []
    },
    {
      "cell_type": "code",
      "source": [
        "# Instantiate the model and put it to the target device\n",
        "\n",
        "model_1 = LinearRegressionModel()\n",
        "\n",
        "list(model_1.parameters())\n"
      ],
      "metadata": {
        "id": "5LdcDnmOmyQ2",
        "colab": {
          "base_uri": "https://localhost:8080/"
        },
        "outputId": "a25ebc09-97ff-4ff0-e349-276e3bf9a691"
      },
      "execution_count": 94,
      "outputs": [
        {
          "output_type": "execute_result",
          "data": {
            "text/plain": [
              "[Parameter containing:\n",
              " tensor([0.6342], requires_grad=True),\n",
              " Parameter containing:\n",
              " tensor([0.2533], requires_grad=True)]"
            ]
          },
          "metadata": {},
          "execution_count": 94
        }
      ]
    },
    {
      "cell_type": "markdown",
      "source": [
        "## 3. Create a loss function and optimizer using `nn.L1Loss()` and `torch.optim.SGD(params, lr)` respectively.\n",
        "  * Set the learning rate of the optimizer to be 0.01 and the parameters to optimize should be the model parameters from the model you created in 2.\n",
        "  * Write a training loop to perform the appropriate training steps for 300 epochs.\n",
        "  * The training loop should test the model on the test dataset every 20 epochs."
      ],
      "metadata": {
        "id": "G6nYOrJhjtfu"
      }
    },
    {
      "cell_type": "code",
      "source": [
        "# Create the loss function and optimizer\n",
        "loss_fn = nn.L1Loss()\n",
        "\n",
        "## optimize r\n",
        "optimizer = torch.optim.SGD(model_1.parameters(), lr=0.01)\n"
      ],
      "metadata": {
        "id": "ltvoZ-FWjv1j"
      },
      "execution_count": 95,
      "outputs": []
    },
    {
      "cell_type": "code",
      "source": [
        "# Training loop\n",
        "\n",
        "train_loss = []\n",
        "test_loss = []\n",
        "epoch_count = []\n",
        "\n",
        "# Train model for 300 epochs\n",
        "\n",
        "epochs  = 300\n",
        "\n",
        "\n",
        "# Send data to target device\n",
        "\n",
        "\n",
        "for epoch in range(epochs):\n",
        "  ### Training\n",
        "\n",
        "  # Put model in train mode\n",
        "\n",
        "  model_1.train()\n",
        "\n",
        "  # 1. Forward pass\n",
        "\n",
        "  y_pred = model_1(X_train)\n",
        "\n",
        "  # 2. Calculate loss\n",
        "\n",
        "  loss = loss_fn(y_pred,y_train)\n",
        "\n",
        "  # 3. Zero gradients\n",
        "\n",
        "  optimizer.zero_grad()\n",
        "\n",
        "  # 4. Backpropagation\n",
        "\n",
        "  loss.backward()\n",
        "\n",
        "\n",
        "  # 5. Step the optimizer\n",
        "\n",
        "  optimizer.step()\n",
        "\n",
        "  # Put model in evaluation mode and setup inference context\n",
        "\n",
        "      # 1. Forward pass\n",
        "\n",
        "\n",
        "  with torch.inference_mode():\n",
        "\n",
        "    y_test_preds = model_1(X_test)\n",
        "\n",
        "\n",
        "    # 2. Calculate test loss\n",
        "\n",
        "    test_losss = loss_fn(y_test_preds,y_test)\n",
        "\n",
        "\n",
        "\n",
        "  ### Perform testing every 20 epochs\n",
        "  if epoch % 20 == 0:\n",
        "\n",
        "    epoch_count.append(epoch)\n",
        "\n",
        "    train_loss.append(loss)\n",
        "\n",
        "    test_loss.append(test_losss)\n",
        "\n",
        "      # Print out what's happening\n",
        "    print(f\"Epoch: {epoch} | Train loss: {loss:.3f} | Test loss: {test_losss:.3f}\")"
      ],
      "metadata": {
        "id": "xpE83NvNnkdV",
        "colab": {
          "base_uri": "https://localhost:8080/"
        },
        "outputId": "faf7e86e-f3da-4b15-8718-93baedd4227f"
      },
      "execution_count": 96,
      "outputs": [
        {
          "output_type": "stream",
          "name": "stdout",
          "text": [
            "Epoch: 0 | Train loss: 4.030 | Test loss: 8.372\n",
            "Epoch: 20 | Train loss: 3.710 | Test loss: 7.897\n",
            "Epoch: 40 | Train loss: 3.390 | Test loss: 7.422\n",
            "Epoch: 60 | Train loss: 3.070 | Test loss: 6.947\n",
            "Epoch: 80 | Train loss: 2.768 | Test loss: 6.482\n",
            "Epoch: 100 | Train loss: 2.490 | Test loss: 6.030\n",
            "Epoch: 120 | Train loss: 2.236 | Test loss: 5.594\n",
            "Epoch: 140 | Train loss: 2.006 | Test loss: 5.173\n",
            "Epoch: 160 | Train loss: 1.798 | Test loss: 4.770\n",
            "Epoch: 180 | Train loss: 1.614 | Test loss: 4.388\n",
            "Epoch: 200 | Train loss: 1.452 | Test loss: 4.026\n",
            "Epoch: 220 | Train loss: 1.310 | Test loss: 3.687\n",
            "Epoch: 240 | Train loss: 1.189 | Test loss: 3.371\n",
            "Epoch: 260 | Train loss: 1.085 | Test loss: 3.079\n",
            "Epoch: 280 | Train loss: 0.999 | Test loss: 2.812\n"
          ]
        }
      ]
    },
    {
      "cell_type": "markdown",
      "source": [
        "## 4. Make predictions with the trained model on the test data.\n",
        "  * Visualize these predictions against the original training and testing data (**note:** you may need to make sure the predictions are *not* on the GPU if you want to use non-CUDA-enabled libraries such as matplotlib to plot)."
      ],
      "metadata": {
        "id": "x4j4TM18jwa7"
      }
    },
    {
      "cell_type": "code",
      "source": [
        "model_1.state_dict()"
      ],
      "metadata": {
        "colab": {
          "base_uri": "https://localhost:8080/"
        },
        "id": "tjCqekkYY-mj",
        "outputId": "412b6f6a-359d-45f9-89c4-f2cbe4387c9f"
      },
      "execution_count": 97,
      "outputs": [
        {
          "output_type": "execute_result",
          "data": {
            "text/plain": [
              "OrderedDict([('weights', tensor([2.7721])), ('bias', tensor([2.2727]))])"
            ]
          },
          "metadata": {},
          "execution_count": 97
        }
      ]
    },
    {
      "cell_type": "code",
      "source": [
        "X_test"
      ],
      "metadata": {
        "colab": {
          "base_uri": "https://localhost:8080/"
        },
        "id": "Vx50dqWPZk78",
        "outputId": "1f2f0cd6-c093-4a55-c763-1945e9c2d0ac"
      },
      "execution_count": 98,
      "outputs": [
        {
          "output_type": "execute_result",
          "data": {
            "text/plain": [
              "tensor([[1.6000],\n",
              "        [1.6500],\n",
              "        [1.7000],\n",
              "        [1.7500],\n",
              "        [1.8000],\n",
              "        [1.8500],\n",
              "        [1.9000],\n",
              "        [1.9500]])"
            ]
          },
          "metadata": {},
          "execution_count": 98
        }
      ]
    },
    {
      "cell_type": "code",
      "source": [
        "y_new_preds,y_test"
      ],
      "metadata": {
        "colab": {
          "base_uri": "https://localhost:8080/"
        },
        "id": "IEQ3RapeZndb",
        "outputId": "97fd6ad4-dbb3-4e79-dc39-d724962d890e"
      },
      "execution_count": 99,
      "outputs": [
        {
          "output_type": "execute_result",
          "data": {
            "text/plain": [
              "(tensor([[ 8.8979],\n",
              "         [ 9.1481],\n",
              "         [ 9.3983],\n",
              "         [ 9.6486],\n",
              "         [ 9.8988],\n",
              "         [10.1490],\n",
              "         [10.3992],\n",
              "         [10.6494]]),\n",
              " tensor([[ 8.9000],\n",
              "         [ 9.1500],\n",
              "         [ 9.4000],\n",
              "         [ 9.6500],\n",
              "         [ 9.9000],\n",
              "         [10.1500],\n",
              "         [10.4000],\n",
              "         [10.6500]]))"
            ]
          },
          "metadata": {},
          "execution_count": 99
        }
      ]
    },
    {
      "cell_type": "code",
      "source": [
        "# Make predictions with the model\n",
        "\n",
        "with torch.inference_mode() :\n",
        "  y_new_preds = model_1(X_test)\n",
        "\n",
        "plot(predictions = y_new_preds)\n"
      ],
      "metadata": {
        "id": "bbMPK5Qjjyx_",
        "colab": {
          "base_uri": "https://localhost:8080/",
          "height": 445
        },
        "outputId": "f862cf83-0658-4b1e-c1a6-8f36bfc1a0b8"
      },
      "execution_count": 100,
      "outputs": [
        {
          "output_type": "display_data",
          "data": {
            "text/plain": [
              "<Figure size 700x500 with 1 Axes>"
            ],
            "image/png": "[encoded data removed]"
          },
          "metadata": {}
        }
      ]
    },
    {
      "cell_type": "markdown",
      "source": [
        "## 5. Save your trained model's `state_dict()` to file.\n",
        "  * Create a new instance of your model class you made in 2. and load in the `state_dict()` you just saved to it.\n",
        "  * Perform predictions on your test data with the loaded model and confirm they match the original model predictions from 4."
      ],
      "metadata": {
        "id": "s2OnlMWKjzX8"
      }
    },
    {
      "cell_type": "code",
      "source": [],
      "metadata": {
        "id": "jC3WvxgAaLTe"
      },
      "execution_count": 100,
      "outputs": []
    },
    {
      "cell_type": "code",
      "source": [
        "from google.colab import drive\n",
        "drive.mount('/content/drive')"
      ],
      "metadata": {
        "colab": {
          "base_uri": "https://localhost:8080/"
        },
        "id": "9kr4QdEsaMiX",
        "outputId": "fc562929-a38d-494b-bfc5-ebcdd57ebc46"
      },
      "execution_count": 101,
      "outputs": [
        {
          "output_type": "stream",
          "name": "stdout",
          "text": [
            "Drive already mounted at /content/drive; to attempt to forcibly remount, call drive.mount(\"/content/drive\", force_remount=True).\n"
          ]
        }
      ]
    },
    {
      "cell_type": "code",
      "source": [
        "PATH = \"/bin/aa/model_1\""
      ],
      "metadata": {
        "id": "4ahENRAJahKc"
      },
      "execution_count": 102,
      "outputs": []
    },
    {
      "cell_type": "code",
      "source": [
        "from pathlib import Path\n",
        "\n",
        "#model directory\n",
        "\n",
        "MODEL_PATH   = Path(\"/content/drive/MyDrive/models\")\n",
        "\n",
        "\n",
        "# 1. Create models directory\n",
        "\n",
        "\n",
        "MODEL_PATH.mkdir(parents = True , exist_ok = True)\n",
        "\n",
        "# 2. Create model save path\n",
        "\n",
        "MODEL_NAME  = \"model_1.pth\"\n",
        "\n",
        "# 3. Save the model state dict\n",
        "\n",
        "model_save_path = MODEL_PATH / MODEL_NAME\n",
        "\n",
        "model_save_path\n",
        "\n"
      ],
      "metadata": {
        "id": "hgxhgD14qr-i",
        "colab": {
          "base_uri": "https://localhost:8080/"
        },
        "outputId": "e4995db5-8355-4a19-e32c-2a974a0c8c93"
      },
      "execution_count": 103,
      "outputs": [
        {
          "output_type": "execute_result",
          "data": {
            "text/plain": [
              "PosixPath('/content/drive/MyDrive/models/model_1.pth')"
            ]
          },
          "metadata": {},
          "execution_count": 103
        }
      ]
    },
    {
      "cell_type": "code",
      "source": [
        "PATH = \"/content/sample_data/model_1\"\n",
        "\n",
        "torch.save(model_1,PATH)\n",
        "\n",
        "# loading\n",
        "\n",
        "model = torch.load(PATH)\n",
        "\n",
        "model.eval()"
      ],
      "metadata": {
        "colab": {
          "base_uri": "https://localhost:8080/"
        },
        "id": "IsRiClLPdTtK",
        "outputId": "73825789-9bca-4e19-f562-77e50ae2a9cc"
      },
      "execution_count": 106,
      "outputs": [
        {
          "output_type": "execute_result",
          "data": {
            "text/plain": [
              "LinearRegressionModel()"
            ]
          },
          "metadata": {},
          "execution_count": 106
        }
      ]
    },
    {
      "cell_type": "code",
      "source": [
        "# Create new instance of model and load saved state dict (make sure to put it on the target device)\n",
        "\n",
        "#save\n",
        "torch.save(model_1.state_dict(), PATH)\n",
        "\n",
        "\n",
        "#load\n",
        "\n",
        "model = LinearRegressionModel()\n",
        "model.load_state_dict(torch.load(PATH))\n",
        "model.eval()\n",
        "\n"
      ],
      "metadata": {
        "id": "P9vTgiLRrJ7T",
        "colab": {
          "base_uri": "https://localhost:8080/"
        },
        "outputId": "1b362829-bda2-430f-a328-1144a4d00ec2"
      },
      "execution_count": 110,
      "outputs": [
        {
          "output_type": "execute_result",
          "data": {
            "text/plain": [
              "LinearRegressionModel()"
            ]
          },
          "metadata": {},
          "execution_count": 110
        }
      ]
    },
    {
      "cell_type": "code",
      "source": [
        "# Make predictions with loaded model and compare them to the previous\n",
        "model_1(1000),model(1000)"
      ],
      "metadata": {
        "id": "8UGX3VebrVtI",
        "colab": {
          "base_uri": "https://localhost:8080/"
        },
        "outputId": "6ff57a46-32d6-40c4-9b1f-b840d81c7e8b"
      },
      "execution_count": 113,
      "outputs": [
        {
          "output_type": "execute_result",
          "data": {
            "text/plain": [
              "(tensor([2774.4111], grad_fn=<AddBackward0>),\n",
              " tensor([2774.4111], grad_fn=<AddBackward0>))"
            ]
          },
          "metadata": {},
          "execution_count": 113
        }
      ]
    },
    {
      "cell_type": "code",
      "source": [
        "##end"
      ],
      "metadata": {
        "id": "9t-mKathdhxT"
      },
      "execution_count": null,
      "outputs": []
    }
  ]
}