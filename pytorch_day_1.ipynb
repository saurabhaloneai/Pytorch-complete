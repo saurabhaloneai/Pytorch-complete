{
  "nbformat": 4,
  "nbformat_minor": 0,
  "metadata": {
    "colab": {
      "provenance": [],
      "gpuType": "V100",
      "authorship_tag": "ABX9TyPCP+s/ucHaoyzjsm9H3yfO",
      "include_colab_link": true
    },
    "kernelspec": {
      "name": "python3",
      "display_name": "Python 3"
    },
    "language_info": {
      "name": "python"
    },
    "accelerator": "GPU"
  },
  "cells": [
    {
      "cell_type": "markdown",
      "metadata": {
        "id": "view-in-github",
        "colab_type": "text"
      },
      "source": [
        "<a href=\"https://colab.research.google.com/github/saurabhaloneai/Pytorch-complete/blob/main/pytorch_day_1.ipynb\" target=\"_parent\"><img src=\"https://colab.research.google.com/assets/colab-badge.svg\" alt=\"Open In Colab\"/></a>"
      ]
    },
    {
      "cell_type": "code",
      "execution_count": 2,
      "metadata": {
        "colab": {
          "base_uri": "https://localhost:8080/",
          "height": 35
        },
        "id": "IFgGNv2j4c4A",
        "outputId": "ec657de9-e507-447d-f2af-28d97bb705a4"
      },
      "outputs": [
        {
          "output_type": "execute_result",
          "data": {
            "text/plain": [
              "'2.1.0+cu118'"
            ],
            "application/vnd.google.colaboratory.intrinsic+json": {
              "type": "string"
            }
          },
          "metadata": {},
          "execution_count": 2
        }
      ],
      "source": [
        "import torch\n",
        "from torch import nn\n",
        "import matplotlib.pyplot as plt\n",
        "\n",
        "\n",
        "torch.__version__"
      ]
    },
    {
      "cell_type": "code",
      "source": [
        "# DATA creating"
      ],
      "metadata": {
        "id": "EMCPu5KTpZbc"
      },
      "execution_count": 3,
      "outputs": []
    },
    {
      "cell_type": "code",
      "source": [
        "#creating parameter\n",
        "weights = 0.7\n",
        "bias =0.3\n",
        "\n",
        "\n",
        "start = 0\n",
        "end = 1\n",
        "step = 0.02\n",
        "X = torch.arange(start,end,step).unsqueeze(dim=1) #it adds extra dimension\n",
        "y = X * weights + bias"
      ],
      "metadata": {
        "id": "gwk6K4GBAAZQ"
      },
      "execution_count": 4,
      "outputs": []
    },
    {
      "cell_type": "code",
      "source": [
        "print(X[:10],y[:10],len(X),len(y))"
      ],
      "metadata": {
        "colab": {
          "base_uri": "https://localhost:8080/"
        },
        "id": "0VyAavFODgPU",
        "outputId": "e5375c1d-3c77-4e41-9b17-d975d39ffa64"
      },
      "execution_count": 5,
      "outputs": [
        {
          "output_type": "stream",
          "name": "stdout",
          "text": [
            "tensor([[0.0000],\n",
            "        [0.0200],\n",
            "        [0.0400],\n",
            "        [0.0600],\n",
            "        [0.0800],\n",
            "        [0.1000],\n",
            "        [0.1200],\n",
            "        [0.1400],\n",
            "        [0.1600],\n",
            "        [0.1800]]) tensor([[0.3000],\n",
            "        [0.3140],\n",
            "        [0.3280],\n",
            "        [0.3420],\n",
            "        [0.3560],\n",
            "        [0.3700],\n",
            "        [0.3840],\n",
            "        [0.3980],\n",
            "        [0.4120],\n",
            "        [0.4260]]) 50 50\n"
          ]
        }
      ]
    },
    {
      "cell_type": "code",
      "source": [
        "#splitting data into test and training set\n",
        "\n",
        "train_split = int(0.8 * len(X))\n",
        "\n",
        "X_train,y_train = X[:train_split],y[:train_split]\n",
        "X_test,y_test = X[train_split:],y[train_split:]\n",
        "\n",
        "len(X_train),len(y_train),len(X_test),len(y_test)"
      ],
      "metadata": {
        "colab": {
          "base_uri": "https://localhost:8080/"
        },
        "id": "ARke9-BgDmNk",
        "outputId": "837e5d6d-5fd5-49f7-86d3-3d20d0498f28"
      },
      "execution_count": 6,
      "outputs": [
        {
          "output_type": "execute_result",
          "data": {
            "text/plain": [
              "(40, 40, 10, 10)"
            ]
          },
          "metadata": {},
          "execution_count": 6
        }
      ]
    },
    {
      "cell_type": "code",
      "source": [
        "#visualise\n",
        "\n",
        "def plot(train_data = X_train,train_labels=y_train,test_data = X_test,test_labels=y_test,predictions=None):\n",
        "  plt.figure(figsize=(10,7))\n",
        "\n",
        "  plt.scatter(train_data,train_labels,c=\"b\",s=4,label=\"Training data\")\n",
        "\n",
        "  plt.scatter(test_data,test_labels,c=\"r\",s=4,label=\"Trainig data\")\n",
        "\n",
        "  if predictions is not None :\n",
        "    plt.scatter(test_data,predictions, c = \"g\",s=4 , label = \"prediction\")\n",
        "\n",
        "  plt.legend(prop={\"size\":14});\n"
      ],
      "metadata": {
        "id": "jQDwIRlyFcaK"
      },
      "execution_count": 7,
      "outputs": []
    },
    {
      "cell_type": "code",
      "source": [
        "plot()"
      ],
      "metadata": {
        "colab": {
          "base_uri": "https://localhost:8080/",
          "height": 599
        },
        "id": "-0Qe1yLbJ3AO",
        "outputId": "0ea9709d-232c-4f39-db74-da7a2e75f0a4"
      },
      "execution_count": 8,
      "outputs": [
        {
          "output_type": "display_data",
          "data": {
            "text/plain": [
              "<Figure size 1000x700 with 1 Axes>"
            ],
            "image/png": "[encoded data removed]"
          },
          "metadata": {}
        }
      ]
    },
    {
      "cell_type": "code",
      "source": [
        "#time to build model\n",
        "# linear regression\n",
        "\n",
        "class LinearRegressionModel(nn.Module):\n",
        "   def __init__(self):\n",
        "     super().__init__()\n",
        "     self.weights = nn.Parameter(torch.rand(1,requires_grad= True , dtype=torch.float))\n",
        "     self.bias = nn.Parameter(torch.rand(1,requires_grad=True,dtype=torch.float))\n",
        "\n",
        "\n",
        "   def forward(self, x:torch.tensor)-> torch.Tensor:\n",
        "\n",
        "\n",
        "    return self.weights * x + self.bias\n"
      ],
      "metadata": {
        "id": "QlGjceduKP-n"
      },
      "execution_count": 9,
      "outputs": []
    },
    {
      "cell_type": "markdown",
      "source": [
        "## WHat is going on ?\n",
        "1. torch.nn - it is the place where all pytorch model live**\n",
        "2. troch.nn.parameter - this basically that we fidning out but this will be already writtenunder the layer\n",
        "3. torch.optim - this is where all optimizer is gonna be\n",
        "4. def forward - > this is where we are going to write computation of our function ex y = {w*x +b} the part under curly brackets"
      ],
      "metadata": {
        "id": "SPYClP73Ws-C"
      }
    },
    {
      "cell_type": "code",
      "source": [
        "#set seed\n",
        "torch.manual_seed(42)\n",
        "\n",
        "model_0 = LinearRegressionModel()\n",
        "\n",
        "list(model_0.parameters())"
      ],
      "metadata": {
        "id": "yjmND4bNPsQJ",
        "colab": {
          "base_uri": "https://localhost:8080/"
        },
        "outputId": "1ee4c72d-c82e-4699-f08a-01aae361230c"
      },
      "execution_count": 10,
      "outputs": [
        {
          "output_type": "execute_result",
          "data": {
            "text/plain": [
              "[Parameter containing:\n",
              " tensor([0.8823], requires_grad=True),\n",
              " Parameter containing:\n",
              " tensor([0.9150], requires_grad=True)]"
            ]
          },
          "metadata": {},
          "execution_count": 10
        }
      ]
    },
    {
      "cell_type": "code",
      "source": [],
      "metadata": {
        "id": "Y4WZApsqBVnl"
      },
      "execution_count": 10,
      "outputs": []
    },
    {
      "cell_type": "code",
      "source": [
        "model_0.state_dict()"
      ],
      "metadata": {
        "colab": {
          "base_uri": "https://localhost:8080/"
        },
        "id": "LcEXsUXQiBDE",
        "outputId": "a063071b-c652-4f7d-ea37-48cf899863db"
      },
      "execution_count": 11,
      "outputs": [
        {
          "output_type": "execute_result",
          "data": {
            "text/plain": [
              "OrderedDict([('weights', tensor([0.8823])), ('bias', tensor([0.9150]))])"
            ]
          },
          "metadata": {},
          "execution_count": 11
        }
      ]
    },
    {
      "cell_type": "code",
      "source": [
        "X_test , y_test"
      ],
      "metadata": {
        "colab": {
          "base_uri": "https://localhost:8080/"
        },
        "id": "_J8i2b2Kbph1",
        "outputId": "c3a7ff0d-6bed-42da-ce97-ba8995ba6f15"
      },
      "execution_count": 12,
      "outputs": [
        {
          "output_type": "execute_result",
          "data": {
            "text/plain": [
              "(tensor([[0.8000],\n",
              "         [0.8200],\n",
              "         [0.8400],\n",
              "         [0.8600],\n",
              "         [0.8800],\n",
              "         [0.9000],\n",
              "         [0.9200],\n",
              "         [0.9400],\n",
              "         [0.9600],\n",
              "         [0.9800]]),\n",
              " tensor([[0.8600],\n",
              "         [0.8740],\n",
              "         [0.8880],\n",
              "         [0.9020],\n",
              "         [0.9160],\n",
              "         [0.9300],\n",
              "         [0.9440],\n",
              "         [0.9580],\n",
              "         [0.9720],\n",
              "         [0.9860]]))"
            ]
          },
          "metadata": {},
          "execution_count": 12
        }
      ]
    },
    {
      "cell_type": "code",
      "source": [
        "y_preds = model_0(X_test)\n",
        "y_preds"
      ],
      "metadata": {
        "colab": {
          "base_uri": "https://localhost:8080/"
        },
        "id": "mBjGOo1rdut_",
        "outputId": "40e13ff1-4364-409f-b52c-12ad3e8b0325"
      },
      "execution_count": 13,
      "outputs": [
        {
          "output_type": "execute_result",
          "data": {
            "text/plain": [
              "tensor([[1.6208],\n",
              "        [1.6385],\n",
              "        [1.6561],\n",
              "        [1.6738],\n",
              "        [1.6914],\n",
              "        [1.7090],\n",
              "        [1.7267],\n",
              "        [1.7443],\n",
              "        [1.7620],\n",
              "        [1.7796]], grad_fn=<AddBackward0>)"
            ]
          },
          "metadata": {},
          "execution_count": 13
        }
      ]
    },
    {
      "cell_type": "markdown",
      "source": [
        "'torch.infernce_mode()' it keeps the tarck of the all gradient of each parameter in inference we don't need any track of this cuase we are not training.... it later they used in backpropagation and so on... this helpful while we are doing the Predcitions"
      ],
      "metadata": {
        "id": "UGQ_kavrd7VC"
      }
    },
    {
      "cell_type": "code",
      "source": [
        "with torch.inference_mode():\n",
        "  y_preds = model_0(X_test)\n",
        "\n",
        "y_preds"
      ],
      "metadata": {
        "colab": {
          "base_uri": "https://localhost:8080/"
        },
        "id": "Obk3IIf_ZaJk",
        "outputId": "270ad230-ba2f-4753-9903-57413b2ee9f3"
      },
      "execution_count": 14,
      "outputs": [
        {
          "output_type": "execute_result",
          "data": {
            "text/plain": [
              "tensor([[1.6208],\n",
              "        [1.6385],\n",
              "        [1.6561],\n",
              "        [1.6738],\n",
              "        [1.6914],\n",
              "        [1.7090],\n",
              "        [1.7267],\n",
              "        [1.7443],\n",
              "        [1.7620],\n",
              "        [1.7796]])"
            ]
          },
          "metadata": {},
          "execution_count": 14
        }
      ]
    },
    {
      "cell_type": "code",
      "source": [
        "plot(predictions=y_preds)"
      ],
      "metadata": {
        "colab": {
          "base_uri": "https://localhost:8080/",
          "height": 599
        },
        "id": "TjzmJlwcbxWr",
        "outputId": "040fd5e0-bc71-4aa1-d051-78d06ea48f8e"
      },
      "execution_count": 15,
      "outputs": [
        {
          "output_type": "display_data",
          "data": {
            "text/plain": [
              "<Figure size 1000x700 with 1 Axes>"
            ],
            "image/png": "[encoded data removed]"
          },
          "metadata": {}
        }
      ]
    },
    {
      "cell_type": "code",
      "source": [
        "#training"
      ],
      "metadata": {
        "id": "VwlrFwUocUYn"
      },
      "execution_count": 16,
      "outputs": []
    },
    {
      "cell_type": "code",
      "source": [
        "#setup loss function\n",
        "loss_fn = nn.L1Loss()\n",
        "\n",
        "#optimizer\n",
        "optimizer = torch.optim.SGD(params = model_0.parameters(), lr = 0.01)"
      ],
      "metadata": {
        "id": "23EjaKcii57b"
      },
      "execution_count": 17,
      "outputs": []
    },
    {
      "cell_type": "code",
      "source": [
        "# Building the training loop and testing loop\n",
        "'''\n",
        "\n",
        "0. Loop through data\n",
        "1. Forward pass passing thorugh y = wx + b\n",
        "2. calculate the loss\n",
        "3. optimizer with zero grad\n",
        "4. Backward pass\n",
        "5. optimizer step - adjust the params with repesct to loss function\n",
        "\n",
        "'''"
      ],
      "metadata": {
        "colab": {
          "base_uri": "https://localhost:8080/",
          "height": 52
        },
        "id": "iaA2zpEfjepI",
        "outputId": "e246b7b2-e4d2-4c4f-8184-5343b0ccfedc"
      },
      "execution_count": 18,
      "outputs": [
        {
          "output_type": "execute_result",
          "data": {
            "text/plain": [
              "'\\n\\n0. Loop through data \\n1. Forward pass passing thorugh y = wx + b\\n2. calculate the loss \\n3. optimizer with zero grad  \\n4. Backward pass \\n5. optimizer step - adjust the params with repesct to loss function\\n\\n'"
            ],
            "application/vnd.google.colaboratory.intrinsic+json": {
              "type": "string"
            }
          },
          "metadata": {},
          "execution_count": 18
        }
      ]
    },
    {
      "cell_type": "markdown",
      "source": [
        "Training and Testing Loop :)"
      ],
      "metadata": {
        "id": "MHN0_q1Lpe6j"
      }
    },
    {
      "cell_type": "code",
      "source": [
        "# finally training loop\n",
        "\n",
        "epochs = 200\n",
        "\n",
        "## Experiement tracking\n",
        "\n",
        "epoch_count =[]\n",
        "\n",
        "train_losss =[]\n",
        "\n",
        "test_losss = []\n",
        "\n",
        "# Loop\n",
        "\n",
        "for epoch in range(epochs) :\n",
        "\n",
        "   model_0.train() # it set all paramter of model that requires gradient to require gradient # it does all th work of setting model to save backward pass things |\n",
        "\n",
        "   y_pred = model_0(X_train)\n",
        "\n",
        "   loss = loss_fn(y_pred , y_train)\n",
        "\n",
        "   optimizer.zero_grad()\n",
        "\n",
        "   loss.backward()\n",
        "\n",
        "   optimizer.step()\n",
        "\n",
        "#testing loop\n",
        "   model_0.eval()\n",
        "\n",
        "   with torch.inference_mode():\n",
        "\n",
        "     y_test_pred = model_0(X_test)\n",
        "\n",
        "     test_loss = loss_fn(y_test_pred , y_test)\n",
        "\n",
        "   if epoch % 10 == 0 :\n",
        "\n",
        "    epoch_count.append(epoch)\n",
        "\n",
        "    train_losss.append(loss)\n",
        "\n",
        "    test_losss.append(test_loss)\n",
        "\n",
        "    print(f\" epochs :{epoch} | MAE train loss : {loss} | MAE test_loss:  {test_loss}\")\n",
        "\n",
        "print(f\"Train loss is: {loss}\")\n",
        "print(f\"Test loss is : {test_loss}\")"
      ],
      "metadata": {
        "colab": {
          "base_uri": "https://localhost:8080/"
        },
        "id": "D_2ITHHTlG14",
        "outputId": "8ef2847e-579d-4f45-a070-2c28bdb48ed9"
      },
      "execution_count": 30,
      "outputs": [
        {
          "output_type": "stream",
          "name": "stdout",
          "text": [
            " epochs :0 | MAE train loss : 0.007095950655639172 | MAE test_loss:  0.00754010071977973\n",
            " epochs :10 | MAE train loss : 0.007095950655639172 | MAE test_loss:  0.00754010071977973\n",
            " epochs :20 | MAE train loss : 0.007095950655639172 | MAE test_loss:  0.00754010071977973\n",
            " epochs :30 | MAE train loss : 0.007095950655639172 | MAE test_loss:  0.00754010071977973\n",
            " epochs :40 | MAE train loss : 0.007095950655639172 | MAE test_loss:  0.00754010071977973\n",
            " epochs :50 | MAE train loss : 0.007095950655639172 | MAE test_loss:  0.00754010071977973\n",
            " epochs :60 | MAE train loss : 0.007095950655639172 | MAE test_loss:  0.00754010071977973\n",
            " epochs :70 | MAE train loss : 0.007095950655639172 | MAE test_loss:  0.00754010071977973\n",
            " epochs :80 | MAE train loss : 0.007095950655639172 | MAE test_loss:  0.00754010071977973\n",
            " epochs :90 | MAE train loss : 0.007095950655639172 | MAE test_loss:  0.00754010071977973\n",
            " epochs :100 | MAE train loss : 0.007095950655639172 | MAE test_loss:  0.00754010071977973\n",
            " epochs :110 | MAE train loss : 0.007095950655639172 | MAE test_loss:  0.00754010071977973\n",
            " epochs :120 | MAE train loss : 0.007095950655639172 | MAE test_loss:  0.00754010071977973\n",
            " epochs :130 | MAE train loss : 0.007095950655639172 | MAE test_loss:  0.00754010071977973\n",
            " epochs :140 | MAE train loss : 0.007095950655639172 | MAE test_loss:  0.00754010071977973\n",
            " epochs :150 | MAE train loss : 0.007095950655639172 | MAE test_loss:  0.00754010071977973\n",
            " epochs :160 | MAE train loss : 0.007095950655639172 | MAE test_loss:  0.00754010071977973\n",
            " epochs :170 | MAE train loss : 0.007095950655639172 | MAE test_loss:  0.00754010071977973\n",
            " epochs :180 | MAE train loss : 0.007095950655639172 | MAE test_loss:  0.00754010071977973\n",
            " epochs :190 | MAE train loss : 0.007095950655639172 | MAE test_loss:  0.00754010071977973\n",
            "Train loss is: 0.004425036255270243\n",
            "Test loss is : 0.005930870771408081\n"
          ]
        }
      ]
    },
    {
      "cell_type": "code",
      "source": [
        "model_0.state_dict()"
      ],
      "metadata": {
        "colab": {
          "base_uri": "https://localhost:8080/"
        },
        "id": "OiBVYfhElGzp",
        "outputId": "ca28c95b-837b-41e7-cba8-09a978f87583"
      },
      "execution_count": 31,
      "outputs": [
        {
          "output_type": "execute_result",
          "data": {
            "text/plain": [
              "OrderedDict([('weights', tensor([0.6977])), ('bias', tensor([0.3080]))])"
            ]
          },
          "metadata": {},
          "execution_count": 31
        }
      ]
    },
    {
      "cell_type": "code",
      "source": [
        "with torch.inference_mode():\n",
        "  y_new_preds = model_0(X_test)"
      ],
      "metadata": {
        "id": "NF1Z0o1clGws"
      },
      "execution_count": 32,
      "outputs": []
    },
    {
      "cell_type": "code",
      "source": [
        "plot(predictions=y_new_preds)"
      ],
      "metadata": {
        "colab": {
          "base_uri": "https://localhost:8080/",
          "height": 599
        },
        "id": "l8wZUDqAlGtU",
        "outputId": "f0de3d09-232e-45c7-927d-8a23135bdf25"
      },
      "execution_count": 33,
      "outputs": [
        {
          "output_type": "display_data",
          "data": {
            "text/plain": [
              "<Figure size 1000x700 with 1 Axes>"
            ],
            "image/png": "[encoded data removed]"
          },
          "metadata": {}
        }
      ]
    },
    {
      "cell_type": "code",
      "source": [
        "import numpy as np\n"
      ],
      "metadata": {
        "id": "zx4ZBSpgz3L0"
      },
      "execution_count": 34,
      "outputs": []
    },
    {
      "cell_type": "code",
      "source": [
        "plt.plot(epoch_count, np.array(torch.tensor(train_losss).numpy()), label = \"tarning loss\")\n",
        "plt.plot(epoch_count, np.array(torch.tensor(test_losss).numpy()), label = \"testing loss\")\n",
        "plt.title(\"training and test loss curve\")\n",
        "plt.ylabel(\"epoch\")\n",
        "plt.xlabel(\"loss\")\n",
        "plt.legend();"
      ],
      "metadata": {
        "colab": {
          "base_uri": "https://localhost:8080/",
          "height": 472
        },
        "id": "rAZFW1_QlGUD",
        "outputId": "d3ecdf59-438b-4f8b-b7a1-daf887b14260"
      },
      "execution_count": 24,
      "outputs": [
        {
          "output_type": "display_data",
          "data": {
            "text/plain": [
              "<Figure size 640x480 with 1 Axes>"
            ],
            "image/png": "[encoded data removed]"
          },
          "metadata": {}
        }
      ]
    },
    {
      "cell_type": "code",
      "source": [
        "torch.save(model_0,\"/content/sample_data/model_0\" )"
      ],
      "metadata": {
        "id": "4cBGiyYa23HP"
      },
      "execution_count": 35,
      "outputs": []
    },
    {
      "cell_type": "code",
      "source": [
        "# saving the model in pytorch\n",
        "\n",
        "# saving\n",
        "\n",
        "path = \"/content/sample_data/model_0\"\n",
        "\n",
        "torch.save(model_0,path)\n",
        "\n",
        "# loading\n",
        "\n",
        "model = torch.load(path)\n",
        "\n",
        "model.eval()"
      ],
      "metadata": {
        "colab": {
          "base_uri": "https://localhost:8080/"
        },
        "id": "VKINSAqa0hxn",
        "outputId": "f6cf5f5b-c799-43dd-d756-afd42632f8df"
      },
      "execution_count": 36,
      "outputs": [
        {
          "output_type": "execute_result",
          "data": {
            "text/plain": [
              "LinearRegressionModel()"
            ]
          },
          "metadata": {},
          "execution_count": 36
        }
      ]
    },
    {
      "cell_type": "code",
      "source": [
        "model(100000)"
      ],
      "metadata": {
        "colab": {
          "base_uri": "https://localhost:8080/"
        },
        "id": "HvTwEWvn3UpV",
        "outputId": "7dbf14ff-5917-47a2-849d-70a2579487c3"
      },
      "execution_count": 37,
      "outputs": [
        {
          "output_type": "execute_result",
          "data": {
            "text/plain": [
              "tensor([69767.2891], grad_fn=<AddBackward0>)"
            ]
          },
          "metadata": {},
          "execution_count": 37
        }
      ]
    },
    {
      "cell_type": "code",
      "source": [
        "0.7 * 100000 + 0.3 ##just checking the previous wieghts and bias"
      ],
      "metadata": {
        "colab": {
          "base_uri": "https://localhost:8080/"
        },
        "id": "M5UycJnN3Zkw",
        "outputId": "ee90edfd-d61f-4c7d-ca73-c36f28b289fd"
      },
      "execution_count": 38,
      "outputs": [
        {
          "output_type": "execute_result",
          "data": {
            "text/plain": [
              "70000.3"
            ]
          },
          "metadata": {},
          "execution_count": 38
        }
      ]
    },
    {
      "cell_type": "code",
      "source": [
        "##end"
      ],
      "metadata": {
        "id": "_NCvjpP43h6w"
      },
      "execution_count": 29,
      "outputs": []
    }
  ]
}